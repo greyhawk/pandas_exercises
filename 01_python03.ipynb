{
 "cells": [
  {
   "cell_type": "code",
   "execution_count": null,
   "metadata": {},
   "outputs": [],
   "source": [
    "# default_exp py03"
   ]
  },
  {
   "cell_type": "markdown",
   "metadata": {},
   "source": [
    "# 求近似平方根"
   ]
  },
  {
   "cell_type": "markdown",
   "metadata": {},
   "source": [
    "## 采用穷举法求近似平方根"
   ]
  },
  {
   "cell_type": "code",
   "execution_count": null,
   "metadata": {},
   "outputs": [],
   "source": [
    "#export\n",
    "def square_root_by_exhaustive(x: int) -> int:\n",
    "    epsilon = 0.01\n",
    "    step = epsilon ** 2\n",
    "    num_guesses = 0\n",
    "    ans = 0.0\n",
    "    while abs(ans ** 2 - x) >= epsilon and ans * ans <= x:\n",
    "        ans += step\n",
    "        num_guesses += 1\n",
    "    if abs(ans ** 2 - x) >= epsilon:\n",
    "        print('Failed on square root of', x)\n",
    "    else:\n",
    "        print(ans, 'is close to square root of', x)\n",
    "    return num_guesses\n",
    ""
   ]
  },
  {
   "cell_type": "code",
   "execution_count": null,
   "metadata": {},
   "outputs": [
    {
     "name": "stdout",
     "output_type": "stream",
     "text": "4.999000000001688 is close to square root of 25\nnum guesses 49990\n0.48989999999996237 is close to square root of 0.25\nnum guesses 4899\nFailed on square root of 123456\nnum guesses 3513631\n"
    }
   ],
   "source": [
    "#hide\n",
    "num_guesses = square_root_by_exhaustive(25)\n",
    "print('num guesses', num_guesses)\n",
    "num_guesses = square_root_by_exhaustive(0.25)\n",
    "print('num guesses', num_guesses)\n",
    "num_guesses = square_root_by_exhaustive(123456)\n",
    "print('num guesses', num_guesses)"
   ]
  },
  {
   "cell_type": "markdown",
   "metadata": {},
   "source": [
    "## 采用二分查找法求近似平方根"
   ]
  },
  {
   "cell_type": "code",
   "execution_count": null,
   "metadata": {},
   "outputs": [],
   "source": [
    "#export\n",
    "def square_root_by_binary_search(x: int) -> int:\n",
    "    epsilon = 0.01\n",
    "    num_guesses = 0\n",
    "    low = 0.0\n",
    "    high = max(1.0, x)\n",
    "    ans = (high + low) / 2.0\n",
    "    while abs(ans**2 - x) >= epsilon:\n",
    "        print('low =', low, 'high=', high, 'ans=', ans)\n",
    "        num_guesses += 1\n",
    "        if ans ** 2 < x:\n",
    "            low = ans\n",
    "        else:\n",
    "            high = ans\n",
    "        ans = (high + low) / 2.0\n",
    "    print(ans, 'is close to square root of', x)\n",
    "    return num_guesses"
   ]
  },
  {
   "cell_type": "code",
   "execution_count": null,
   "metadata": {},
   "outputs": [
    {
     "name": "stdout",
     "output_type": "stream",
     "text": "low = 0.0 high= 25 ans= 12.5\nlow = 0.0 high= 12.5 ans= 6.25\nlow = 0.0 high= 6.25 ans= 3.125\nlow = 3.125 high= 6.25 ans= 4.6875\nlow = 4.6875 high= 6.25 ans= 5.46875\nlow = 4.6875 high= 5.46875 ans= 5.078125\nlow = 4.6875 high= 5.078125 ans= 4.8828125\nlow = 4.8828125 high= 5.078125 ans= 4.98046875\nlow = 4.98046875 high= 5.078125 ans= 5.029296875\nlow = 4.98046875 high= 5.029296875 ans= 5.0048828125\nlow = 4.98046875 high= 5.0048828125 ans= 4.99267578125\nlow = 4.99267578125 high= 5.0048828125 ans= 4.998779296875\nlow = 4.998779296875 high= 5.0048828125 ans= 5.0018310546875\n5.00030517578125 is close to square root of 25\nnum guesses 13\n"
    }
   ],
   "source": [
    "num_guesses = square_root_by_binary_search(25)\n",
    "print('num guesses', num_guesses)"
   ]
  },
  {
   "cell_type": "code",
   "execution_count": null,
   "metadata": {},
   "outputs": [],
   "source": [
    "## 采用牛顿-拉佛森法"
   ]
  },
  {
   "cell_type": "code",
   "execution_count": null,
   "metadata": {},
   "outputs": [],
   "source": [
    "#export\n",
    "def square_root_by_newton(x: int) -> int:\n",
    "    epsilon = 0.01\n",
    "    guess = x / 2.0\n",
    "    num_guesses = 0\n",
    "    while abs(guess * guess - x) >= epsilon:\n",
    "        guess = guess - (((guess ** 2) - x) / (2 * guess))\n",
    "        num_guesses += 1\n",
    "    print('Square root of', x, 'is about', guess)\n",
    "    return num_guesses"
   ]
  },
  {
   "cell_type": "code",
   "execution_count": null,
   "metadata": {},
   "outputs": [
    {
     "name": "stdout",
     "output_type": "stream",
     "text": "Square root of 25 is about 5.000012953048684\nnum guesses 4\n"
    }
   ],
   "source": [
    "#hide\n",
    "num_guesses = square_root_by_newton(25)\n",
    "print('num guesses', num_guesses)"
   ]
  }
 ],
 "metadata": {
  "kernelspec": {
   "display_name": "Python 3.8.0 64-bit",
   "name": "python38064bit9b538e00031b4384ac22ac3db8e17bfb"
  }
 },
 "nbformat": 4,
 "nbformat_minor": 2
}
