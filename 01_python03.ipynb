{
 "cells": [
  {
   "cell_type": "code",
   "execution_count": null,
   "metadata": {},
   "outputs": [],
   "source": [
    "# default_exp py03"
   ]
  },
  {
   "cell_type": "code",
   "execution_count": null,
   "metadata": {},
   "outputs": [],
   "source": [
    "#export\n",
    "from typing import List"
   ]
  },
  {
   "cell_type": "markdown",
   "metadata": {},
   "source": [
    "# 求近似平方根"
   ]
  },
  {
   "cell_type": "markdown",
   "metadata": {},
   "source": [
    "## 采用穷举法求近似平方根"
   ]
  },
  {
   "cell_type": "code",
   "execution_count": null,
   "metadata": {},
   "outputs": [],
   "source": [
    "#export\n",
    "def square_root_by_exhaustive(x: int) -> int:\n",
    "    epsilon = 0.01\n",
    "    step = epsilon ** 2\n",
    "    num_guesses = 0\n",
    "    ans = 0.0\n",
    "    while abs(ans ** 2 - x) >= epsilon and ans * ans <= x:\n",
    "        ans += step\n",
    "        num_guesses += 1\n",
    "    if abs(ans ** 2 - x) >= epsilon:\n",
    "        print('Failed on square root of', x)\n",
    "    else:\n",
    "        print(ans, 'is close to square root of', x)\n",
    "    return num_guesses\n"
   ]
  },
  {
   "cell_type": "code",
   "execution_count": null,
   "metadata": {},
   "outputs": [
    {
     "name": "stdout",
     "output_type": "stream",
     "text": [
      "4.999000000001688 is close to square root of 25\n",
      "num guesses 49990\n",
      "0.48989999999996237 is close to square root of 0.25\n",
      "num guesses 4899\n",
      "Failed on square root of 123456\n",
      "num guesses 3513631\n"
     ]
    }
   ],
   "source": [
    "#hide\n",
    "num_guesses = square_root_by_exhaustive(25)\n",
    "print('num guesses', num_guesses)\n",
    "num_guesses = square_root_by_exhaustive(0.25)\n",
    "print('num guesses', num_guesses)\n",
    "num_guesses = square_root_by_exhaustive(123456)\n",
    "print('num guesses', num_guesses)"
   ]
  },
  {
   "cell_type": "markdown",
   "metadata": {},
   "source": [
    "## 采用二分查找法求近似平方根"
   ]
  },
  {
   "cell_type": "code",
   "execution_count": null,
   "metadata": {},
   "outputs": [],
   "source": [
    "#export\n",
    "def square_root_by_binary_search(x: int) -> int:\n",
    "    epsilon = 0.01\n",
    "    num_guesses = 0\n",
    "    low = 0.0\n",
    "    high = max(1.0, x)\n",
    "    ans = (high + low) / 2.0\n",
    "    while abs(ans**2 - x) >= epsilon:\n",
    "        print('low =', low, 'high=', high, 'ans=', ans)\n",
    "        num_guesses += 1\n",
    "        if ans ** 2 < x:\n",
    "            low = ans\n",
    "        else:\n",
    "            high = ans\n",
    "        ans = (high + low) / 2.0\n",
    "    print(ans, 'is close to square root of', x)\n",
    "    return num_guesses"
   ]
  },
  {
   "cell_type": "code",
   "execution_count": null,
   "metadata": {},
   "outputs": [
    {
     "name": "stdout",
     "output_type": "stream",
     "text": [
      "low = 0.0 high= 25 ans= 12.5\n",
      "low = 0.0 high= 12.5 ans= 6.25\n",
      "low = 0.0 high= 6.25 ans= 3.125\n",
      "low = 3.125 high= 6.25 ans= 4.6875\n",
      "low = 4.6875 high= 6.25 ans= 5.46875\n",
      "low = 4.6875 high= 5.46875 ans= 5.078125\n",
      "low = 4.6875 high= 5.078125 ans= 4.8828125\n",
      "low = 4.8828125 high= 5.078125 ans= 4.98046875\n",
      "low = 4.98046875 high= 5.078125 ans= 5.029296875\n",
      "low = 4.98046875 high= 5.029296875 ans= 5.0048828125\n",
      "low = 4.98046875 high= 5.0048828125 ans= 4.99267578125\n",
      "low = 4.99267578125 high= 5.0048828125 ans= 4.998779296875\n",
      "low = 4.998779296875 high= 5.0048828125 ans= 5.0018310546875\n",
      "5.00030517578125 is close to square root of 25\n",
      "num guesses 13\n"
     ]
    }
   ],
   "source": [
    "num_guesses = square_root_by_binary_search(25)\n",
    "print('num guesses', num_guesses)"
   ]
  },
  {
   "cell_type": "code",
   "execution_count": null,
   "metadata": {},
   "outputs": [],
   "source": [
    "## 采用牛顿-拉佛森法"
   ]
  },
  {
   "cell_type": "code",
   "execution_count": null,
   "metadata": {},
   "outputs": [],
   "source": [
    "#export\n",
    "def square_root_by_newton(x: int) -> int:\n",
    "    epsilon = 0.01\n",
    "    guess = x / 2.0\n",
    "    num_guesses = 0\n",
    "    while abs(guess * guess - x) >= epsilon:\n",
    "        guess = guess - (((guess ** 2) - x) / (2 * guess))\n",
    "        num_guesses += 1\n",
    "    print('Square root of', x, 'is about', guess)\n",
    "    return num_guesses"
   ]
  },
  {
   "cell_type": "code",
   "execution_count": null,
   "metadata": {},
   "outputs": [
    {
     "name": "stdout",
     "output_type": "stream",
     "text": [
      "Square root of 25 is about 5.000012953048684\n",
      "num guesses 4\n"
     ]
    }
   ],
   "source": [
    "#hide\n",
    "num_guesses = square_root_by_newton(25)\n",
    "print('num guesses', num_guesses)"
   ]
  },
  {
   "cell_type": "markdown",
   "metadata": {},
   "source": [
    "## 递归二分查找"
   ]
  },
  {
   "cell_type": "code",
   "execution_count": null,
   "metadata": {},
   "outputs": [],
   "source": [
    "#export\n",
    "def search(L: List[int or float or long], e: int or float or long) -> bool:\n",
    "    \"\"\"\n",
    "    假设 L 是列表，其中元素已经按升序排序\n",
    "    如果 e 是 L 中的元素，返回 true，否则返回 false\n",
    "    \"\"\"\n",
    "    def bit_search(L, e, low, high):\n",
    "        if low == high:\n",
    "            return L[low] == e\n",
    "        mid = (low + high) // 2\n",
    "        if L[mid] == e:\n",
    "            return True\n",
    "        elif L[mid] > e:\n",
    "            if low == mid:\n",
    "                return False\n",
    "            else:\n",
    "                return bit_search(L, e, low, mid - 1)\n",
    "        else:\n",
    "            return bit_search(L, e, mid + 1, high)\n",
    "    \n",
    "    if len(L) == 0:\n",
    "        return False\n",
    "    else:\n",
    "        return bit_search(L, e, 0, len(L) - 1)"
   ]
  },
  {
   "cell_type": "markdown",
   "metadata": {},
   "source": [
    "### 测试查找存在的元素"
   ]
  },
  {
   "cell_type": "code",
   "execution_count": null,
   "metadata": {},
   "outputs": [
    {
     "data": {
      "text/plain": [
       "True"
      ]
     },
     "execution_count": null,
     "metadata": {},
     "output_type": "execute_result"
    }
   ],
   "source": [
    "#hide\n",
    "L = [2,3,5,18,34,56,78,99]\n",
    "e = 34\n",
    "search(L, e)"
   ]
  },
  {
   "cell_type": "markdown",
   "metadata": {},
   "source": [
    "### 测试查找不存在的元素"
   ]
  },
  {
   "cell_type": "code",
   "execution_count": null,
   "metadata": {},
   "outputs": [
    {
     "data": {
      "text/plain": [
       "False"
      ]
     },
     "execution_count": null,
     "metadata": {},
     "output_type": "execute_result"
    }
   ],
   "source": [
    "#hide\n",
    "L = [2,3,5,18,34,56,78,99]\n",
    "e = 35\n",
    "search(L, e)"
   ]
  },
  {
   "cell_type": "markdown",
   "metadata": {},
   "source": [
    "## 选择排序"
   ]
  },
  {
   "cell_type": "code",
   "execution_count": null,
   "metadata": {},
   "outputs": [],
   "source": [
    "#export\n",
    "def select_sort(L: List[int or float or long]):\n",
    "    \"\"\"\n",
    "    假设 L 是列表，其中的元素可以用 > 进行比较\n",
    "    对 L 进行升序排序\n",
    "    \"\"\"\n",
    "    suffix_start = 0\n",
    "    while suffix_start != len(L):\n",
    "        for i in range(suffix_start, len(L)):\n",
    "            if L[i] < L[suffix_start]:\n",
    "                L[suffix_start], L[i] = L[i], L[suffix_start]\n",
    "        suffix_start += 1"
   ]
  },
  {
   "cell_type": "markdown",
   "metadata": {},
   "source": [
    "### 测试选择排序"
   ]
  },
  {
   "cell_type": "code",
   "execution_count": null,
   "metadata": {},
   "outputs": [
    {
     "name": "stdout",
     "output_type": "stream",
     "text": [
      "[2, 13, 34, 36, 45, 78, 99, 178]\n"
     ]
    }
   ],
   "source": [
    "#hide\n",
    "L = [45,34,2,78,99,178,36,13]\n",
    "select_sort(L)\n",
    "print(L)"
   ]
  }
 ],
 "metadata": {
  "kernelspec": {
   "display_name": "Python 3.8.0 64-bit",
   "language": "python",
   "name": "python38064bit9b538e00031b4384ac22ac3db8e17bfb"
  }
 },
 "nbformat": 4,
 "nbformat_minor": 4
}
