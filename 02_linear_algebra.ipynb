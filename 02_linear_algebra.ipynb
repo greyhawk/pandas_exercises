{
 "cells": [
  {
   "cell_type": "markdown",
   "metadata": {},
   "source": [
    "# 线性代数"
   ]
  },
  {
   "cell_type": "markdown",
   "metadata": {},
   "source": [
    "## 矩阵的定义\n",
    "$$\n",
    "\\boldsymbol{A}=\\left[\\begin{array}{cccc}\n",
    "a_{11} & a_{12} & \\cdots & a_{1 n} \\\\\n",
    "a_{21} & a_{22} & \\cdots & a_{2 n} \\\\\n",
    "\\vdots & \\vdots & & \\vdots \\\\\n",
    "a_{m 1} & a_{m 2} & \\cdots & a_{m n}\n",
    "\\end{array}\\right], \\quad a_{i j} \\in \\mathbb{R}\n",
    "$$"
   ]
  },
  {
   "cell_type": "markdown",
   "metadata": {},
   "source": [
    "## 矩阵的加法\n",
    "$$\n",
    "\\boldsymbol{A}+\\boldsymbol{B}:=\\left[\\begin{array}{ccc}\n",
    "a_{11}+b_{11} & \\cdots & a_{1 n}+b_{1 n} \\\\\n",
    "\\vdots & & \\vdots \\\\\n",
    "a_{m 1}+b_{m 1} & \\cdots & a_{m n}+b_{m n}\n",
    "\\end{array}\\right] \\in \\mathbb{R}^{m \\times n}\n",
    "$$"
   ]
  },
  {
   "cell_type": "markdown",
   "metadata": {},
   "source": [
    "## 矩阵的乘法\n",
    "$$\n",
    "c_{i j}=\\sum_{l=1}^{n} a_{i l} b_{l j}, \\quad i=1, \\ldots, m, \\quad j=1, \\ldots, k\n",
    "$$\n",
    "\n",
    "$$\n",
    "\\underbrace{\\boldsymbol{A}}_{n \\times k} \\underbrace{\\boldsymbol{B}}_{k \\times m}=\\underbrace{\\boldsymbol{C}}_{n \\times m}\n",
    "$$"
   ]
  },
  {
   "cell_type": "markdown",
   "metadata": {},
   "source": [
    "## 单位矩阵\n",
    "$$\n",
    "\\boldsymbol{I}_{n}:=\\left[\\begin{array}{cccccc}\n",
    "1 & 0 & \\cdots & 0 & \\cdots & 0 \\\\\n",
    "0 & 1 & \\cdots & 0 & \\cdots & 0 \\\\\n",
    "\\vdots & \\vdots & \\ddots & \\vdots & \\ddots & \\vdots \\\\\n",
    "0 & 0 & \\cdots & 1 & \\cdots & 0 \\\\\n",
    "\\vdots & \\vdots & \\ddots & \\vdots & \\ddots & \\vdots \\\\\n",
    "0 & 0 & \\cdots & 0 & \\cdots & 1\n",
    "\\end{array}\\right] \\in \\mathbb{R}^{n \\times n}\n",
    "$$"
   ]
  },
  {
   "cell_type": "markdown",
   "metadata": {},
   "source": [
    "## 矩阵的结合律\n",
    "$$\n",
    "\\forall \\boldsymbol{A} \\in \\mathbb{R}^{m \\times n}, \\boldsymbol{B} \\in \\mathbb{R}^{n \\times p}, \\boldsymbol{C} \\in \\mathbb{R}^{p \\times q}:(\\boldsymbol{A} \\boldsymbol{B}) \\boldsymbol{C}=\\boldsymbol{A}(\\boldsymbol{B} \\boldsymbol{C})\n",
    "$$"
   ]
  },
  {
   "cell_type": "markdown",
   "metadata": {},
   "source": [
    "## 矩阵的分配律\n",
    "$$\n",
    "\\begin{aligned}\n",
    "\\forall \\boldsymbol{A}, \\boldsymbol{B} \\in \\mathbb{R}^{m \\times n}, \\boldsymbol{C}, \\boldsymbol{D} \\in \\mathbb{R}^{n \\times p}:(\\boldsymbol{A}+\\boldsymbol{B}) \\boldsymbol{C} &=\\boldsymbol{A} \\boldsymbol{C}+\\boldsymbol{B} \\boldsymbol{C} \\\\\n",
    "\\boldsymbol{A}(\\boldsymbol{C}+\\boldsymbol{D}) &=\\boldsymbol{A} \\boldsymbol{C}+\\boldsymbol{A} \\boldsymbol{D}\n",
    "\\end{aligned}\n",
    "$$"
   ]
  },
  {
   "cell_type": "markdown",
   "metadata": {},
   "source": [
    "## 矩阵乘法单位元\n",
    "$$\n",
    "\\forall \\boldsymbol{A} \\in \\mathbb{R}^{m \\times n}: \\boldsymbol{I}_{m} \\boldsymbol{A}=\\boldsymbol{A} \\boldsymbol{I}_{n}=\\boldsymbol{A}\n",
    "$$"
   ]
  },
  {
   "cell_type": "markdown",
   "metadata": {},
   "source": [
    "## 逆矩阵和转置矩阵\n",
    "$$\n",
    "\\begin{aligned}\n",
    "\\boldsymbol{A} \\boldsymbol{A}^{-1} &=\\boldsymbol{I}=\\boldsymbol{A}^{-1} \\boldsymbol{A} \\\\\n",
    "(\\boldsymbol{A B})^{-1} &=\\boldsymbol{B}^{-1} \\boldsymbol{A}^{-1} \\\\\n",
    "(\\boldsymbol{A}+\\boldsymbol{B})^{-1} & \\neq \\boldsymbol{A}^{-1}+\\boldsymbol{B}^{-1} \\\\\n",
    "\\left(\\boldsymbol{A}^{\\top}\\right)^{\\top} &=\\boldsymbol{A} \\\\\n",
    "(\\boldsymbol{A}+\\boldsymbol{B})^{\\top} &=\\boldsymbol{A}^{\\top}+\\boldsymbol{B}^{\\top} \\\\\n",
    "(\\boldsymbol{A B})^{\\top} &=\\boldsymbol{B}^{\\top} \\boldsymbol{A}^{\\top}\n",
    "\\end{aligned}\n",
    "$$"
   ]
  },
  {
   "cell_type": "code",
   "execution_count": null,
   "metadata": {},
   "outputs": [],
   "source": []
  }
 ],
 "metadata": {
  "kernelspec": {
   "display_name": "Python 3.8.0 64-bit ('.venv': venv)",
   "language": "python",
   "name": "python38064bitvenvvenv9d6d87d02a55435484c2918c1e517d9a"
  }
 },
 "nbformat": 4,
 "nbformat_minor": 4
}
